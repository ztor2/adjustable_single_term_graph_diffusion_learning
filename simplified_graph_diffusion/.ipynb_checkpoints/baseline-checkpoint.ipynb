{
 "cells": [
  {
   "cell_type": "code",
   "execution_count": 1,
   "id": "dpE_Nvkfl5Ls",
   "metadata": {
    "colab": {
     "base_uri": "https://localhost:8080/"
    },
    "executionInfo": {
     "elapsed": 19345,
     "status": "ok",
     "timestamp": 1632894323210,
     "user": {
      "displayName": "Jicheol Kang",
      "photoUrl": "https://lh3.googleusercontent.com/a/default-user=s64",
      "userId": "04636124994992343301"
     },
     "user_tz": -540
    },
    "id": "dpE_Nvkfl5Ls",
    "outputId": "caf3f43c-00fe-4d79-965d-bcd2c3bb28af"
   },
   "outputs": [
    {
     "name": "stdout",
     "output_type": "stream",
     "text": [
      "Mounted at /content/drive\n"
     ]
    }
   ],
   "source": [
    "from google.colab import drive\n",
    "drive.mount('/content/drive')"
   ]
  },
  {
   "cell_type": "code",
   "execution_count": 2,
   "id": "uN-6HOE4l89C",
   "metadata": {
    "colab": {
     "base_uri": "https://localhost:8080/"
    },
    "executionInfo": {
     "elapsed": 14,
     "status": "ok",
     "timestamp": 1632894323216,
     "user": {
      "displayName": "Jicheol Kang",
      "photoUrl": "https://lh3.googleusercontent.com/a/default-user=s64",
      "userId": "04636124994992343301"
     },
     "user_tz": -540
    },
    "id": "uN-6HOE4l89C",
    "outputId": "f5082521-df99-4c0b-cb14-a11e3fa6597a"
   },
   "outputs": [
    {
     "name": "stdout",
     "output_type": "stream",
     "text": [
      "/content/drive/MyDrive\n"
     ]
    }
   ],
   "source": [
    "cd /content/drive/MyDrive"
   ]
  },
  {
   "cell_type": "code",
   "execution_count": 1,
   "id": "93c621bf-f45e-4d02-aa97-faf8c1a8be5e",
   "metadata": {
    "id": "93c621bf-f45e-4d02-aa97-faf8c1a8be5e"
   },
   "outputs": [],
   "source": [
    "import pickle as pkl\n",
    "import pandas as pd\n",
    "import numpy as np\n",
    "from sklearn.neural_network import MLPClassifier\n",
    "from sklearn.linear_model import LogisticRegression\n",
    "from sklearn.svm import SVC\n",
    "from sklearn.model_selection import train_test_split\n",
    "from sklearn.metrics import confusion_matrix\n",
    "import warnings; warnings.filterwarnings('ignore')\n",
    "import json\n",
    "from datetime import datetime, timedelta\n",
    "from collections import OrderedDict"
   ]
  },
  {
   "cell_type": "code",
   "execution_count": 2,
   "id": "e681f824-6908-4d86-b84e-f92feb134b5a",
   "metadata": {},
   "outputs": [],
   "source": [
    "import sklearn"
   ]
  },
  {
   "cell_type": "code",
   "execution_count": 3,
   "id": "722f6c5d-eb3d-4b52-ad74-41952cdcd15e",
   "metadata": {},
   "outputs": [
    {
     "data": {
      "text/plain": [
       "'0.24.2'"
      ]
     },
     "execution_count": 3,
     "metadata": {},
     "output_type": "execute_result"
    }
   ],
   "source": [
    "sklearn.__version__"
   ]
  },
  {
   "cell_type": "code",
   "execution_count": null,
   "id": "29bbef6a-e303-46fc-b1de-9a918c0c7253",
   "metadata": {
    "id": "29bbef6a-e303-46fc-b1de-9a918c0c7253"
   },
   "outputs": [],
   "source": [
    "model_name = 'mlp'\n",
    "dataset = 'arx' # 'citeseer', 'cora', 'pubmed', 'arx'\n",
    "task = 'classification' # 'classification', 'link_prediction'\n",
    "feat_norm = False\n",
    "n_iter = 10"
   ]
  },
  {
   "cell_type": "code",
   "execution_count": null,
   "id": "481a1047-95ec-4afe-94f9-99490c3a88b6",
   "metadata": {
    "id": "481a1047-95ec-4afe-94f9-99490c3a88b6"
   },
   "outputs": [],
   "source": [
    "with open('data/'+dataset+'.feature', 'rb') as f:\n",
    "    X = pkl.load(f).todense()\n",
    "with open('data/'+dataset+'.labels', 'rb') as f:\n",
    "    y = pkl.load(f)"
   ]
  },
  {
   "cell_type": "code",
   "execution_count": null,
   "id": "780c5f78-4f2c-4df5-9f7d-3db7a8217092",
   "metadata": {
    "id": "780c5f78-4f2c-4df5-9f7d-3db7a8217092"
   },
   "outputs": [],
   "source": [
    "test_size = 0.5\n",
    "epochs = 200\n",
    "if model_name == 'logreg':\n",
    "    multi_class = 'ovr'\n",
    "    setting_order = 'test_size, epochs, multi_class'\n",
    "    settings = test_size, epochs, multi_class\n",
    "if model_name == 'mlp':\n",
    "    learning_rate = 0.05\n",
    "    hidden_units = 32\n",
    "    hidden_layer_num = 1\n",
    "    setting_order = 'test_size, epochs, learning_rate, hidden_units, hidden_layer_num'\n",
    "    settings = test_size, epochs, learning_rate, hidden_units, hidden_layer_num"
   ]
  },
  {
   "cell_type": "markdown",
   "id": "87d478ac-03b3-4164-84e0-dda30d1659a5",
   "metadata": {
    "id": "87d478ac-03b3-4164-84e0-dda30d1659a5"
   },
   "source": [
    "### Logistic Regression"
   ]
  },
  {
   "cell_type": "code",
   "execution_count": null,
   "id": "0a358038-7b1d-4d0c-9d47-3c9913f474d6",
   "metadata": {
    "id": "0a358038-7b1d-4d0c-9d47-3c9913f474d6"
   },
   "outputs": [],
   "source": [
    "# results= []\n",
    "# for i in range(n_iter):\n",
    "#     X_train, X_test, y_train, y_test = train_test_split(X, y, test_size=test_size, shuffle=True)\n",
    "#     clf = LogisticRegression(multi_class=multi_class, max_iter=epochs).fit(X_train, y_train)\n",
    "#     results.append(np.round(clf.score(X_test, y_test), 6))\n",
    "# print('Model: ', clf, '\\n')\n",
    "# print(results)\n",
    "# print('\\nAverage performance: {:.2f} ± {:.2f}'.format(np.mean(results)*100, np.std(results)*100))"
   ]
  },
  {
   "cell_type": "markdown",
   "id": "f5bdcf1c-c806-431c-82fc-df887d09fcf6",
   "metadata": {
    "id": "f5bdcf1c-c806-431c-82fc-df887d09fcf6"
   },
   "source": [
    "### MLP"
   ]
  },
  {
   "cell_type": "code",
   "execution_count": null,
   "id": "ef4aedd5-9578-45b9-b8fc-38fe82b2e451",
   "metadata": {
    "colab": {
     "base_uri": "https://localhost:8080/"
    },
    "executionInfo": {
     "elapsed": 131802,
     "status": "ok",
     "timestamp": 1632368323534,
     "user": {
      "displayName": "Jicheol Kang",
      "photoUrl": "https://lh3.googleusercontent.com/a/default-user=s64",
      "userId": "04636124994992343301"
     },
     "user_tz": -540
    },
    "id": "ef4aedd5-9578-45b9-b8fc-38fe82b2e451",
    "outputId": "9d7d747d-da87-4352-82ae-858bd1a73fec"
   },
   "outputs": [
    {
     "name": "stdout",
     "output_type": "stream",
     "text": [
      "Model:  MLPClassifier(activation='relu', alpha=0.0001, batch_size='auto', beta_1=0.9,\n",
      "              beta_2=0.999, early_stopping=False, epsilon=1e-08,\n",
      "              hidden_layer_sizes=(32,), learning_rate='constant',\n",
      "              learning_rate_init=0.05, max_fun=15000, max_iter=200,\n",
      "              momentum=0.9, n_iter_no_change=10, nesterovs_momentum=True,\n",
      "              power_t=0.5, random_state=None, shuffle=True, solver='adam',\n",
      "              tol=0.0001, validation_fraction=0.1, verbose=False,\n",
      "              warm_start=False) \n",
      "\n",
      "[0.6356, 0.6404, 0.635, 0.636, 0.632, 0.6426, 0.6392, 0.624, 0.6392, 0.6388]\n",
      "\n",
      "Average performance: 63.63 ± 0.50\n"
     ]
    }
   ],
   "source": [
    "results= []\n",
    "for i in range(n_iter):\n",
    "    X_train, X_test, y_train, y_test = train_test_split(X, y, test_size=test_size, shuffle=True)\n",
    "    clf2 = MLPClassifier(max_iter=epochs, learning_rate_init=learning_rate, hidden_layer_sizes=(32,)).fit(X_train, y_train)\n",
    "    results.append(np.round(clf2.score(X_test, y_test), 6))\n",
    "print('Model: ', clf2, '\\n')\n",
    "print(results)\n",
    "print('\\nAverage performance: {:.2f} ± {:.2f}'.format(np.mean(results)*100, np.std(results)*100))"
   ]
  },
  {
   "cell_type": "code",
   "execution_count": null,
   "id": "c6aa60ec-ef25-49dd-94fc-71460713ab18",
   "metadata": {
    "id": "c6aa60ec-ef25-49dd-94fc-71460713ab18"
   },
   "outputs": [],
   "source": [
    "date = (datetime.now() + timedelta(hours=9)).strftime(\"%Y-%m-%d %H:%M:%S\")"
   ]
  },
  {
   "cell_type": "code",
   "execution_count": null,
   "id": "886f9781-0ac9-4d28-b8d1-646e5bac3b35",
   "metadata": {
    "id": "886f9781-0ac9-4d28-b8d1-646e5bac3b35"
   },
   "outputs": [],
   "source": [
    "log_dict= OrderedDict()"
   ]
  },
  {
   "cell_type": "code",
   "execution_count": null,
   "id": "ef7dd86e-f17f-4e95-8023-a5123d22caa6",
   "metadata": {
    "colab": {
     "base_uri": "https://localhost:8080/",
     "height": 328
    },
    "executionInfo": {
     "elapsed": 12,
     "status": "ok",
     "timestamp": 1632368323536,
     "user": {
      "displayName": "Jicheol Kang",
      "photoUrl": "https://lh3.googleusercontent.com/a/default-user=s64",
      "userId": "04636124994992343301"
     },
     "user_tz": -540
    },
    "id": "ef7dd86e-f17f-4e95-8023-a5123d22caa6",
    "outputId": "439d6913-1279-430e-ef17-8df46f688781"
   },
   "outputs": [
    {
     "data": {
      "text/html": [
       "<div>\n",
       "<style scoped>\n",
       "    .dataframe tbody tr th:only-of-type {\n",
       "        vertical-align: middle;\n",
       "    }\n",
       "\n",
       "    .dataframe tbody tr th {\n",
       "        vertical-align: top;\n",
       "    }\n",
       "\n",
       "    .dataframe thead th {\n",
       "        text-align: right;\n",
       "    }\n",
       "</style>\n",
       "<table border=\"1\" class=\"dataframe\">\n",
       "  <thead>\n",
       "    <tr style=\"text-align: right;\">\n",
       "      <th></th>\n",
       "      <th>key</th>\n",
       "      <th>value</th>\n",
       "    </tr>\n",
       "  </thead>\n",
       "  <tbody>\n",
       "    <tr>\n",
       "      <th>0</th>\n",
       "      <td>model</td>\n",
       "      <td>mlp</td>\n",
       "    </tr>\n",
       "    <tr>\n",
       "      <th>1</th>\n",
       "      <td>dataset</td>\n",
       "      <td>arx</td>\n",
       "    </tr>\n",
       "    <tr>\n",
       "      <th>2</th>\n",
       "      <td>datetime</td>\n",
       "      <td>2021-09-23 12:38:42</td>\n",
       "    </tr>\n",
       "    <tr>\n",
       "      <th>3</th>\n",
       "      <td>iteration</td>\n",
       "      <td>10</td>\n",
       "    </tr>\n",
       "    <tr>\n",
       "      <th>4</th>\n",
       "      <td>setting_order_mlp</td>\n",
       "      <td>test_size, epochs, learning_rate, hidden_units...</td>\n",
       "    </tr>\n",
       "    <tr>\n",
       "      <th>5</th>\n",
       "      <td>settings</td>\n",
       "      <td>(0.5, 200, 0.05, 32, 1)</td>\n",
       "    </tr>\n",
       "    <tr>\n",
       "      <th>6</th>\n",
       "      <td>acc</td>\n",
       "      <td>[0.6356, 0.6404, 0.635, 0.636, 0.632, 0.6426, ...</td>\n",
       "    </tr>\n",
       "    <tr>\n",
       "      <th>7</th>\n",
       "      <td>acc_mean</td>\n",
       "      <td>0.63628</td>\n",
       "    </tr>\n",
       "    <tr>\n",
       "      <th>8</th>\n",
       "      <td>acc_std</td>\n",
       "      <td>0.00501613</td>\n",
       "    </tr>\n",
       "  </tbody>\n",
       "</table>\n",
       "</div>"
      ],
      "text/plain": [
       "                 key                                              value\n",
       "0              model                                                mlp\n",
       "1            dataset                                                arx\n",
       "2           datetime                                2021-09-23 12:38:42\n",
       "3          iteration                                                 10\n",
       "4  setting_order_mlp  test_size, epochs, learning_rate, hidden_units...\n",
       "5           settings                            (0.5, 200, 0.05, 32, 1)\n",
       "6                acc  [0.6356, 0.6404, 0.635, 0.636, 0.632, 0.6426, ...\n",
       "7           acc_mean                                            0.63628\n",
       "8            acc_std                                         0.00501613"
      ]
     },
     "execution_count": 76,
     "metadata": {},
     "output_type": "execute_result"
    }
   ],
   "source": [
    "log_dict['model'] = model_name\n",
    "log_dict['dataset'] = dataset\n",
    "log_dict['datetime'] = date\n",
    "log_dict['iteration'] = n_iter\n",
    "log_dict['setting_order_{}'.format(model_name)] = setting_order\n",
    "log_dict['settings'] = settings\n",
    "log_dict['acc'] = results\n",
    "log_dict['acc_mean'] = np.mean(results)\n",
    "log_dict['acc_std'] = np.std(results)\n",
    "log_dict\n",
    "pd.DataFrame(log_dict.items(), columns=['key', 'value'])"
   ]
  },
  {
   "cell_type": "code",
   "execution_count": null,
   "id": "3a561b31-0817-4b2f-beb2-43178da74a20",
   "metadata": {
    "id": "3a561b31-0817-4b2f-beb2-43178da74a20"
   },
   "outputs": [],
   "source": [
    "data = json.load(open('results_classification_baseline.json'))\n",
    "data.append(log_dict)\n",
    "with open('results_classification_baseline.json', 'w') as f:\n",
    "    json.dump(data, f)"
   ]
  },
  {
   "cell_type": "code",
   "execution_count": null,
   "id": "18zRFkX1mV8W",
   "metadata": {
    "colab": {
     "base_uri": "https://localhost:8080/"
    },
    "executionInfo": {
     "elapsed": 12,
     "status": "ok",
     "timestamp": 1632368323538,
     "user": {
      "displayName": "Jicheol Kang",
      "photoUrl": "https://lh3.googleusercontent.com/a/default-user=s64",
      "userId": "04636124994992343301"
     },
     "user_tz": -540
    },
    "id": "18zRFkX1mV8W",
    "outputId": "06187271-8c70-45aa-8553-eab36d69aebc"
   },
   "outputs": [
    {
     "name": "stdout",
     "output_type": "stream",
     "text": [
      "Last data saved at: 2021-09-23 12:38:42\n",
      "Total data num: 8\n"
     ]
    }
   ],
   "source": [
    "print(\"Last data saved at: {}\".format((datetime.now() + timedelta(hours=9)).strftime(\"%Y-%m-%d %H:%M:%S\")))\n",
    "print(\"Total data num: {}\".format(len(data)))"
   ]
  },
  {
   "cell_type": "code",
   "execution_count": null,
   "id": "5b70c51f-53ba-40d6-a568-eea806e17caa",
   "metadata": {
    "id": "5b70c51f-53ba-40d6-a568-eea806e17caa"
   },
   "outputs": [],
   "source": [
    "# # if wanna clear results(be careful!)\n",
    "# empty = []\n",
    "# with open('results_classification_baseline.json', 'w') as f:\n",
    "#     json.dump(empty, f)"
   ]
  },
  {
   "cell_type": "code",
   "execution_count": null,
   "id": "XhT570MFmKhI",
   "metadata": {
    "id": "XhT570MFmKhI"
   },
   "outputs": [],
   "source": []
  }
 ],
 "metadata": {
  "colab": {
   "collapsed_sections": [],
   "machine_shape": "hm",
   "name": "baseline.ipynb",
   "provenance": []
  },
  "kernelspec": {
   "display_name": "Python 3",
   "language": "python",
   "name": "python3"
  },
  "language_info": {
   "codemirror_mode": {
    "name": "ipython",
    "version": 3
   },
   "file_extension": ".py",
   "mimetype": "text/x-python",
   "name": "python",
   "nbconvert_exporter": "python",
   "pygments_lexer": "ipython3",
   "version": "3.8.3"
  }
 },
 "nbformat": 4,
 "nbformat_minor": 5
}
