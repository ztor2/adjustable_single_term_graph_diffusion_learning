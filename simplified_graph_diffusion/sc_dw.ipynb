{
  "cells": [
    {
      "cell_type": "code",
      "execution_count": 3,
      "metadata": {
        "colab": {
          "base_uri": "https://localhost:8080/"
        },
        "id": "49139b7e-6000-4a7a-963e-fe99b293d9fc",
        "outputId": "1bf33f1b-240f-484a-da42-1cf6ed1dcc31"
      },
      "outputs": [
        {
          "output_type": "stream",
          "name": "stdout",
          "text": [
            "Drive already mounted at /content/drive; to attempt to forcibly remount, call drive.mount(\"/content/drive\", force_remount=True).\n"
          ]
        }
      ],
      "source": [
        "from google.colab import drive\n",
        "drive.mount('/content/drive')"
      ],
      "id": "49139b7e-6000-4a7a-963e-fe99b293d9fc"
    },
    {
      "cell_type": "code",
      "execution_count": 4,
      "metadata": {
        "colab": {
          "base_uri": "https://localhost:8080/"
        },
        "id": "bfe740d3-4b0c-4d22-b3b3-4fdbe5508e3b",
        "outputId": "9f8252e5-16d0-4bdd-816f-ef44bca66ec8"
      },
      "outputs": [
        {
          "output_type": "stream",
          "name": "stdout",
          "text": [
            "/content/drive/MyDrive\n"
          ]
        }
      ],
      "source": [
        "cd /content/drive/MyDrive"
      ],
      "id": "bfe740d3-4b0c-4d22-b3b3-4fdbe5508e3b"
    },
    {
      "cell_type": "code",
      "execution_count": null,
      "metadata": {
        "id": "7vHVV3aLNSZV"
      },
      "outputs": [],
      "source": [
        "pip install node2vec"
      ],
      "id": "7vHVV3aLNSZV"
    },
    {
      "cell_type": "code",
      "execution_count": 7,
      "metadata": {
        "id": "19c5582e-c08c-4b56-bfa1-47de74b62183"
      },
      "outputs": [],
      "source": [
        "from sc_dw.model import *\n",
        "from sc_dw.utils import *\n",
        "import numpy as np\n",
        "from datetime import datetime, timedelta\n",
        "import pandas as pd\n",
        "import json\n",
        "from collections import OrderedDict\n",
        "import warnings; warnings.filterwarnings('ignore')"
      ],
      "id": "19c5582e-c08c-4b56-bfa1-47de74b62183"
    },
    {
      "cell_type": "code",
      "execution_count": 8,
      "metadata": {
        "id": "653b02b7-90dd-4e03-b0e2-8af6afb2f38d"
      },
      "outputs": [],
      "source": [
        "model_name = 'deepwalk'\n",
        "dataset = 'pubmed' # 'citeseer', 'cora', 'pubmed', 'arx'\n",
        "task = 'link_prediction' # 'classification', 'link_prediction'\n",
        "feat_norm = False\n",
        "n_iter = 10\n",
        "prevent_disconnect_dw = False"
      ],
      "id": "653b02b7-90dd-4e03-b0e2-8af6afb2f38d"
    },
    {
      "cell_type": "code",
      "execution_count": 9,
      "metadata": {
        "id": "806b2fcc-2a8e-4024-8cb5-fc89a62a7700"
      },
      "outputs": [],
      "source": [
        "dim = 128\n",
        "test_val_ratio = [0.1, 0.05] # len_test = len_total * test_ratio, len_val = len_total * val_ratio\n",
        "test = test_val_ratio[0]\n",
        "val = test_val_ratio[1]"
      ],
      "id": "806b2fcc-2a8e-4024-8cb5-fc89a62a7700"
    },
    {
      "cell_type": "code",
      "execution_count": 10,
      "metadata": {
        "id": "cf71f9c0-f84c-4d07-aa16-13e03304062a"
      },
      "outputs": [],
      "source": [
        "if model_name == 'spectral_clustering':\n",
        "    walk_len=None; num_walk=None; window=None; prevent_disconnect = False\n",
        "elif model_name == 'deepwalk':\n",
        "    walk_len=80; num_walk=10; window=10; prevent_disconnect = prevent_disconnect_dw"
      ],
      "id": "cf71f9c0-f84c-4d07-aa16-13e03304062a"
    },
    {
      "cell_type": "code",
      "execution_count": 11,
      "metadata": {
        "id": "58b9ab76-15ef-463a-96e2-cbdf6efc3297"
      },
      "outputs": [],
      "source": [
        "hparams = dim, test_val_ratio, prevent_disconnect, walk_len, num_walk, window"
      ],
      "id": "58b9ab76-15ef-463a-96e2-cbdf6efc3297"
    },
    {
      "cell_type": "code",
      "execution_count": 12,
      "metadata": {
        "id": "e461fb07-1dd6-4fd2-ae4e-acebc9bc54dd"
      },
      "outputs": [],
      "source": [
        "if task == 'link_prediction':\n",
        "    adj, features = load_data(dataset, task, feat_norm)\n",
        "elif task == 'classification':\n",
        "    adj, features, labels = load_data(dataset, task, feat_norm)"
      ],
      "id": "e461fb07-1dd6-4fd2-ae4e-acebc9bc54dd"
    },
    {
      "cell_type": "code",
      "execution_count": null,
      "metadata": {
        "id": "61b00e78-d853-48e0-8fbf-cbea0f75eff6"
      },
      "outputs": [],
      "source": [
        "AUC_scores = []\n",
        "AP_scores = []\n",
        "for i in range(n_iter):\n",
        "    train_test_split = edge_split(adj, test, val, prevent_disconnect=prevent_disconnect)\n",
        "    \n",
        "    if model_name == 'spectral_clustering':\n",
        "        scores = spectral_clustering_scores(train_test_split, random_state=3, dim=dim)\n",
        "    elif model_name == 'deepwalk':\n",
        "        scores = deepwalk_scores(train_test_split, dim=dim, walk_len=walk_len, num_walk=num_walk, window=window)\n",
        "    \n",
        "    AUC_scores.append(scores['test_roc'])\n",
        "    AP_scores.append(scores['test_ap'])\n",
        "    \n",
        "    print('Experiment {} result - ROC(AUC) score: {}, AP score: {}'.format(i+1, np.round(scores['test_roc'], 5), np.round(scores['test_ap'], 5)), end='\\n')"
      ],
      "id": "61b00e78-d853-48e0-8fbf-cbea0f75eff6"
    },
    {
      "cell_type": "code",
      "execution_count": null,
      "metadata": {
        "colab": {
          "background_save": true
        },
        "id": "79c9c609-130f-4e24-a282-fdb8ddb43bd1",
        "outputId": "edf5e42d-f2b1-45a5-a75a-e75614429892"
      },
      "outputs": [
        {
          "name": "stdout",
          "output_type": "stream",
          "text": [
            "AUC mean: 70.00 ± 0.32\n",
            "AP mean: 76.68 ± 0.41\n"
          ]
        }
      ],
      "source": [
        "print('AUC mean:', '{:.2f} ± {:.2f}'.format( np.round(np.mean(AUC_scores)*100, 2), np.round(np.std(AUC_scores)*100, 2) ))\n",
        "print('AP mean:', '{:.2f} ± {:.2f}'.format( np.round(np.mean(AP_scores)*100, 2), np.round(np.std(AP_scores)*100, 2) ))"
      ],
      "id": "79c9c609-130f-4e24-a282-fdb8ddb43bd1"
    },
    {
      "cell_type": "code",
      "execution_count": null,
      "metadata": {
        "colab": {
          "background_save": true
        },
        "id": "5f381894-56d5-4eb5-afe8-3c610a45b8d0"
      },
      "outputs": [],
      "source": [
        "results = AUC_scores, AP_scores\n",
        "# date = (datetime.now()).strftime(\"%Y-%m-%d %H:%M:%S\"); date\n",
        "date = (datetime.now() + timedelta(hours=9)).strftime(\"%Y-%m-%d %H:%M:%S\")"
      ],
      "id": "5f381894-56d5-4eb5-afe8-3c610a45b8d0"
    },
    {
      "cell_type": "code",
      "execution_count": null,
      "metadata": {
        "colab": {
          "background_save": true
        },
        "id": "c9bde79b-4b28-43e2-ab04-5a836729d578"
      },
      "outputs": [],
      "source": [
        "log_dict= OrderedDict()"
      ],
      "id": "c9bde79b-4b28-43e2-ab04-5a836729d578"
    },
    {
      "cell_type": "code",
      "execution_count": null,
      "metadata": {
        "colab": {
          "background_save": true
        },
        "id": "ce43043f-1b8d-4764-b499-3fb9a1d65c24",
        "outputId": "50cbb196-f793-4c8d-c0b9-dec50baf507a"
      },
      "outputs": [
        {
          "data": {
            "text/html": [
              "<div>\n",
              "<style scoped>\n",
              "    .dataframe tbody tr th:only-of-type {\n",
              "        vertical-align: middle;\n",
              "    }\n",
              "\n",
              "    .dataframe tbody tr th {\n",
              "        vertical-align: top;\n",
              "    }\n",
              "\n",
              "    .dataframe thead th {\n",
              "        text-align: right;\n",
              "    }\n",
              "</style>\n",
              "<table border=\"1\" class=\"dataframe\">\n",
              "  <thead>\n",
              "    <tr style=\"text-align: right;\">\n",
              "      <th></th>\n",
              "      <th>key</th>\n",
              "      <th>value</th>\n",
              "    </tr>\n",
              "  </thead>\n",
              "  <tbody>\n",
              "    <tr>\n",
              "      <th>0</th>\n",
              "      <td>model</td>\n",
              "      <td>deepwalk</td>\n",
              "    </tr>\n",
              "    <tr>\n",
              "      <th>1</th>\n",
              "      <td>dataset</td>\n",
              "      <td>pubmed</td>\n",
              "    </tr>\n",
              "    <tr>\n",
              "      <th>2</th>\n",
              "      <td>datetime</td>\n",
              "      <td>2021-09-10 14:05:22</td>\n",
              "    </tr>\n",
              "    <tr>\n",
              "      <th>3</th>\n",
              "      <td>setting_order</td>\n",
              "      <td>[emb_dim, test_val_ratio, prevent_disconnect, ...</td>\n",
              "    </tr>\n",
              "    <tr>\n",
              "      <th>4</th>\n",
              "      <td>setting_value</td>\n",
              "      <td>(128, [0.1, 0.05], False, 80, 10, 10)</td>\n",
              "    </tr>\n",
              "    <tr>\n",
              "      <th>5</th>\n",
              "      <td>iteration</td>\n",
              "      <td>10</td>\n",
              "    </tr>\n",
              "    <tr>\n",
              "      <th>6</th>\n",
              "      <td>roc</td>\n",
              "      <td>[0.7030309188833427, 0.7015974036870023, 0.698...</td>\n",
              "    </tr>\n",
              "    <tr>\n",
              "      <th>7</th>\n",
              "      <td>roc_mean</td>\n",
              "      <td>0.700038</td>\n",
              "    </tr>\n",
              "    <tr>\n",
              "      <th>8</th>\n",
              "      <td>roc_std</td>\n",
              "      <td>0.0032267</td>\n",
              "    </tr>\n",
              "    <tr>\n",
              "      <th>9</th>\n",
              "      <td>ap</td>\n",
              "      <td>[0.7675081559605261, 0.7659105173083716, 0.764...</td>\n",
              "    </tr>\n",
              "    <tr>\n",
              "      <th>10</th>\n",
              "      <td>ap_mean</td>\n",
              "      <td>0.766831</td>\n",
              "    </tr>\n",
              "    <tr>\n",
              "      <th>11</th>\n",
              "      <td>ap_std</td>\n",
              "      <td>0.00409893</td>\n",
              "    </tr>\n",
              "  </tbody>\n",
              "</table>\n",
              "</div>"
            ],
            "text/plain": [
              "              key                                              value\n",
              "0           model                                           deepwalk\n",
              "1         dataset                                             pubmed\n",
              "2        datetime                                2021-09-10 14:05:22\n",
              "3   setting_order  [emb_dim, test_val_ratio, prevent_disconnect, ...\n",
              "4   setting_value              (128, [0.1, 0.05], False, 80, 10, 10)\n",
              "5       iteration                                                 10\n",
              "6             roc  [0.7030309188833427, 0.7015974036870023, 0.698...\n",
              "7        roc_mean                                           0.700038\n",
              "8         roc_std                                          0.0032267\n",
              "9              ap  [0.7675081559605261, 0.7659105173083716, 0.764...\n",
              "10        ap_mean                                           0.766831\n",
              "11         ap_std                                         0.00409893"
            ]
          },
          "execution_count": null,
          "metadata": {},
          "output_type": "execute_result"
        }
      ],
      "source": [
        "log_dict['model'] = model_name\n",
        "log_dict['dataset'] = dataset\n",
        "log_dict['datetime'] = date\n",
        "log_dict['setting_order'] = ['emb_dim', 'test_val_ratio', 'prevent_disconnect', 'walk_len', 'num_walk', 'window_size']\n",
        "log_dict['setting_value'] = hparams\n",
        "log_dict['iteration'] = n_iter\n",
        "log_dict['roc'] = results[0]\n",
        "log_dict['roc_mean'] = np.mean(results[0])\n",
        "log_dict['roc_std'] = np.std(results[0])\n",
        "log_dict['ap'] = results[1]\n",
        "log_dict['ap_mean'] = np.mean(results[1])\n",
        "log_dict['ap_std'] = np.std(results[1])\n",
        "pd.DataFrame(log_dict.items(), columns=['key', 'value'])"
      ],
      "id": "ce43043f-1b8d-4764-b499-3fb9a1d65c24"
    },
    {
      "cell_type": "code",
      "execution_count": null,
      "metadata": {
        "colab": {
          "background_save": true
        },
        "id": "858b8df4-e49c-4e00-b5fc-b2826aac5c83"
      },
      "outputs": [],
      "source": [
        ""
      ],
      "id": "858b8df4-e49c-4e00-b5fc-b2826aac5c83"
    },
    {
      "cell_type": "code",
      "execution_count": null,
      "metadata": {
        "colab": {
          "background_save": true
        },
        "id": "d1fa0123-5627-415e-94f1-9d9950bfd96b",
        "outputId": "f79ae48e-72ae-44cd-c1c9-87048b3de21a"
      },
      "outputs": [
        {
          "name": "stdout",
          "output_type": "stream",
          "text": [
            "Last data saved at: 2021-09-10 14:05:23\n",
            "Total data num: 9\n"
          ]
        }
      ],
      "source": [
        "data = json.load(open('results_link_prediction(sc_dw).json'))\n",
        "data.append(log_dict)\n",
        "with open('results_link_prediction(sc_dw).json', 'w') as f:\n",
        "    json.dump(data, f)\n",
        "# print(\"Last data saved at: {}\".format((datetime.now()).strftime(\"%Y-%m-%d %H:%M:%S\")))\n",
        "print(\"Last data saved at: {}\".format((datetime.now() + timedelta(hours=9)).strftime(\"%Y-%m-%d %H:%M:%S\")))\n",
        "print(\"Total data num: {}\".format(len(data)))"
      ],
      "id": "d1fa0123-5627-415e-94f1-9d9950bfd96b"
    },
    {
      "cell_type": "code",
      "execution_count": null,
      "metadata": {
        "id": "e5d61f55-ca22-49ca-8690-fcfb2be5284c"
      },
      "outputs": [],
      "source": [
        "# empty = []\n",
        "# with open('results_link_prediction(etc_emb).json', 'w') as f:\n",
        "#     json.dump(empty, f)"
      ],
      "id": "e5d61f55-ca22-49ca-8690-fcfb2be5284c"
    },
    {
      "cell_type": "code",
      "execution_count": null,
      "metadata": {
        "colab": {
          "base_uri": "https://localhost:8080/"
        },
        "id": "87e6a655-cc1e-4131-844c-cb7343f3b0c1",
        "outputId": "f0980c23-faef-43eb-b384-278c08fcd495"
      },
      "outputs": [
        {
          "name": "stdout",
          "output_type": "stream",
          "text": [
            "Total data num: 2\n"
          ]
        }
      ],
      "source": [
        "# data = json.load(open('results_link_prediction(etc_emb).json'))\n",
        "# print(\"Total data num: {}\".format(len(data)))"
      ],
      "id": "87e6a655-cc1e-4131-844c-cb7343f3b0c1"
    },
    {
      "cell_type": "code",
      "execution_count": null,
      "metadata": {
        "id": "bWUADv3lYTZ3"
      },
      "outputs": [],
      "source": [
        ""
      ],
      "id": "bWUADv3lYTZ3"
    }
  ],
  "metadata": {
    "colab": {
      "collapsed_sections": [],
      "machine_shape": "hm",
      "name": "sc_dw.ipynb",
      "provenance": []
    },
    "kernelspec": {
      "display_name": "Python 3",
      "language": "python",
      "name": "python3"
    },
    "language_info": {
      "codemirror_mode": {
        "name": "ipython",
        "version": 3
      },
      "file_extension": ".py",
      "mimetype": "text/x-python",
      "name": "python",
      "nbconvert_exporter": "python",
      "pygments_lexer": "ipython3",
      "version": "3.8.3"
    }
  },
  "nbformat": 4,
  "nbformat_minor": 5
}