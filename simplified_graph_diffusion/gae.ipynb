{
 "cells": [
  {
   "cell_type": "code",
   "execution_count": null,
   "id": "aSfC_Ex8lKQM",
   "metadata": {
    "colab": {
     "base_uri": "https://localhost:8080/"
    },
    "executionInfo": {
     "elapsed": 27918,
     "status": "ok",
     "timestamp": 1634953627542,
     "user": {
      "displayName": "Jicheol Kang",
      "photoUrl": "https://lh3.googleusercontent.com/a/default-user=s64",
      "userId": "04636124994992343301"
     },
     "user_tz": -540
    },
    "id": "aSfC_Ex8lKQM",
    "outputId": "5fedd422-7af6-47db-a268-350eafac8d48"
   },
   "outputs": [
    {
     "name": "stdout",
     "output_type": "stream",
     "text": [
      "Mounted at /content/drive\n"
     ]
    }
   ],
   "source": [
    "from google.colab import drive\n",
    "drive.mount('/content/drive')"
   ]
  },
  {
   "cell_type": "code",
   "execution_count": null,
   "id": "360072a8-fd8a-4785-a8eb-35b0d89ccdee",
   "metadata": {
    "colab": {
     "base_uri": "https://localhost:8080/"
    },
    "executionInfo": {
     "elapsed": 5,
     "status": "ok",
     "timestamp": 1634953627543,
     "user": {
      "displayName": "Jicheol Kang",
      "photoUrl": "https://lh3.googleusercontent.com/a/default-user=s64",
      "userId": "04636124994992343301"
     },
     "user_tz": -540
    },
    "id": "360072a8-fd8a-4785-a8eb-35b0d89ccdee",
    "outputId": "c233c928-8a89-42c2-e58b-34374f74d8f4"
   },
   "outputs": [
    {
     "name": "stdout",
     "output_type": "stream",
     "text": [
      "/content/drive/MyDrive\n"
     ]
    }
   ],
   "source": [
    "cd /content/drive/MyDrive"
   ]
  },
  {
   "cell_type": "code",
   "execution_count": null,
   "id": "qfFsEp8RebjS",
   "metadata": {
    "id": "qfFsEp8RebjS"
   },
   "outputs": [],
   "source": [
    "# pip install torch==1.9.1+cu111 torchvision==0.10.1+cu111 torchaudio===0.9.1 -f https://download.pytorch.org/whl/torch_stable.html"
   ]
  },
  {
   "cell_type": "code",
   "execution_count": 1,
   "id": "a2c539fd-f60f-45f1-97f4-7f0ac0e3e90e",
   "metadata": {
    "id": "a2c539fd-f60f-45f1-97f4-7f0ac0e3e90e"
   },
   "outputs": [],
   "source": [
    "from gae.model import GCN_AE\n",
    "from gae.optimizer import loss_function\n",
    "from gae.utils import *\n",
    "import numpy as np\n",
    "import scipy.sparse as sp\n",
    "import torch\n",
    "from torch import optim\n",
    "import torch.nn.functional as F\n",
    "from datetime import datetime, timedelta\n",
    "import pandas as pd\n",
    "import time\n",
    "import json\n",
    "from collections import OrderedDict"
   ]
  },
  {
   "cell_type": "code",
   "execution_count": 6,
   "id": "2qL5avpCga4a",
   "metadata": {
    "colab": {
     "base_uri": "https://localhost:8080/"
    },
    "executionInfo": {
     "elapsed": 336,
     "status": "ok",
     "timestamp": 1634953830837,
     "user": {
      "displayName": "Jicheol Kang",
      "photoUrl": "https://lh3.googleusercontent.com/a/default-user=s64",
      "userId": "04636124994992343301"
     },
     "user_tz": -540
    },
    "id": "2qL5avpCga4a",
    "outputId": "9ddca2bb-4dac-4265-a05f-62e9562a472d"
   },
   "outputs": [
    {
     "name": "stdout",
     "output_type": "stream",
     "text": [
      "1.9.0\n",
      "10.2\n"
     ]
    }
   ],
   "source": [
    "print(torch.__version__)\n",
    "print(torch.version.cuda)"
   ]
  },
  {
   "cell_type": "markdown",
   "id": "5b892b13-8055-4d1b-9b47-db4e8b15d34f",
   "metadata": {
    "id": "5b892b13-8055-4d1b-9b47-db4e8b15d34f"
   },
   "source": [
    "### Settings"
   ]
  },
  {
   "cell_type": "code",
   "execution_count": null,
   "id": "c607937f-417a-45db-bd9e-a10021d84944",
   "metadata": {
    "id": "c607937f-417a-45db-bd9e-a10021d84944"
   },
   "outputs": [],
   "source": [
    "model_name = 'gae'\n",
    "dataset = 'pubmed' # 'citeseer', 'cora', 'pubmed', 'arx'\n",
    "task = 'link_prediction' # 'classification', 'link_prediction'\n",
    "feature_use = True # option only for link prediction\n",
    "feat_norm = False\n",
    "n_iter = 10"
   ]
  },
  {
   "cell_type": "code",
   "execution_count": null,
   "id": "e6f6f4c0-71a1-4c7e-abcc-017e053f0706",
   "metadata": {
    "id": "e6f6f4c0-71a1-4c7e-abcc-017e053f0706"
   },
   "outputs": [],
   "source": [
    "hidden1 = 32\n",
    "hidden2 = 16\n",
    "lr = 0.01\n",
    "dropout = 0.\n",
    "epochs = 200\n",
    "test_val_ratio = [0.1, 0.05] # len_test = len_total * test_ratio, len_val = len_total * val_ratio\n",
    "n_diff_range = [5]\n",
    "alpha_range = [0.5]"
   ]
  },
  {
   "cell_type": "code",
   "execution_count": null,
   "id": "FTJ4jlgTJPcj",
   "metadata": {
    "id": "FTJ4jlgTJPcj"
   },
   "outputs": [],
   "source": [
    "# n_diff = 1\n",
    "# alpha = 0.5"
   ]
  },
  {
   "cell_type": "code",
   "execution_count": null,
   "id": "-DYb4_oA6j6Z",
   "metadata": {
    "id": "-DYb4_oA6j6Z"
   },
   "outputs": [],
   "source": [
    "# hparams = epochs, hidden1, hidden2, lr, dropout, test_val_ratio, n_diff, alpha"
   ]
  },
  {
   "cell_type": "markdown",
   "id": "fce5e158-06d5-4b4e-9f3f-1a60ad0aec7c",
   "metadata": {
    "id": "fce5e158-06d5-4b4e-9f3f-1a60ad0aec7c"
   },
   "source": [
    "### Import dataset"
   ]
  },
  {
   "cell_type": "code",
   "execution_count": null,
   "id": "6a122842-2b9d-4abc-8712-bc69630d6061",
   "metadata": {
    "id": "6a122842-2b9d-4abc-8712-bc69630d6061"
   },
   "outputs": [],
   "source": [
    "if task == 'link_prediction':\n",
    "    adj, features = load_data(dataset, task, feat_norm)\n",
    "elif task == 'classification':\n",
    "    adj, features, labels = load_data(dataset, task, feat_norm)"
   ]
  },
  {
   "cell_type": "code",
   "execution_count": null,
   "id": "fQ3l7fg4jmNk",
   "metadata": {
    "colab": {
     "base_uri": "https://localhost:8080/"
    },
    "executionInfo": {
     "elapsed": 5,
     "status": "ok",
     "timestamp": 1634953837024,
     "user": {
      "displayName": "Jicheol Kang",
      "photoUrl": "https://lh3.googleusercontent.com/a/default-user=s64",
      "userId": "04636124994992343301"
     },
     "user_tz": -540
    },
    "id": "fQ3l7fg4jmNk",
    "outputId": "6f4b710a-1ad1-4f05-e34a-5b7b0b5385be"
   },
   "outputs": [
    {
     "data": {
      "text/plain": [
       "device(type='cpu')"
      ]
     },
     "execution_count": 11,
     "metadata": {},
     "output_type": "execute_result"
    }
   ],
   "source": [
    "# device = torch.device('cpu')\n",
    "device = torch.device('cpu')\n",
    "device"
   ]
  },
  {
   "cell_type": "code",
   "execution_count": 26,
   "id": "doUu36niFlFl",
   "metadata": {
    "colab": {
     "base_uri": "https://localhost:8080/"
    },
    "executionInfo": {
     "elapsed": 325,
     "status": "ok",
     "timestamp": 1634956817341,
     "user": {
      "displayName": "Jicheol Kang",
      "photoUrl": "https://lh3.googleusercontent.com/a/default-user=s64",
      "userId": "04636124994992343301"
     },
     "user_tz": -540
    },
    "id": "doUu36niFlFl",
    "outputId": "178688a9-a9cd-4bce-befb-0bb90b268500"
   },
   "outputs": [
    {
     "data": {
      "text/plain": [
       "400"
      ]
     },
     "execution_count": 26,
     "metadata": {},
     "output_type": "execute_result"
    }
   ],
   "source": [
    "data = json.load(open('results_link_prediction.json'))\n",
    "len(data)"
   ]
  },
  {
   "cell_type": "code",
   "execution_count": 27,
   "id": "rv8peTUo9Rgi",
   "metadata": {
    "colab": {
     "base_uri": "https://localhost:8080/"
    },
    "executionInfo": {
     "elapsed": 374,
     "status": "ok",
     "timestamp": 1634956823027,
     "user": {
      "displayName": "Jicheol Kang",
      "photoUrl": "https://lh3.googleusercontent.com/a/default-user=s64",
      "userId": "04636124994992343301"
     },
     "user_tz": -540
    },
    "id": "rv8peTUo9Rgi",
    "outputId": "4ed4c7c0-dfc3-4e2c-f910-0efde6334b1c"
   },
   "outputs": [
    {
     "data": {
      "text/plain": [
       "[{'ap': [0.9179010442650157,\n",
       "   0.904843431612509,\n",
       "   0.8937775710943865,\n",
       "   0.8876549357578043,\n",
       "   0.9147400331010008,\n",
       "   0.9045643381497407,\n",
       "   0.9135599283106204,\n",
       "   0.9119238566121137,\n",
       "   0.9163552305094279,\n",
       "   0.914469768802574],\n",
       "  'ap_mean': 0.9079790138215194,\n",
       "  'ap_std': 0.009692256587751651,\n",
       "  'dataset': 'pubmed',\n",
       "  'datetime': '2021-10-05 15:48:47',\n",
       "  'elapsed time(s)': 47.0691,\n",
       "  'experiment mode': 'simplified diffusion mode(n_diff=1, alpha=0.1)',\n",
       "  'iteration': 10,\n",
       "  'model': 'gae',\n",
       "  'roc': [0.9043511736814662,\n",
       "   0.8960328250710251,\n",
       "   0.8813648524187535,\n",
       "   0.8924462377381109,\n",
       "   0.9002870244482455,\n",
       "   0.899288042922094,\n",
       "   0.9024360529996248,\n",
       "   0.9022654951780867,\n",
       "   0.9057253824150014,\n",
       "   0.910574097627297],\n",
       "  'roc_mean': 0.8994771184499706,\n",
       "  'roc_std': 0.007697485438875076,\n",
       "  'setting_order': ['epochs',\n",
       "   'hidden1',\n",
       "   'hidden2',\n",
       "   'lr',\n",
       "   'dropout',\n",
       "   'test_val_ratio',\n",
       "   'feat_norm',\n",
       "   'feat_use'],\n",
       "  'setting_value': [200, 32, 16, 0.01, 0.0, [0.1, 0.05], False, True]},\n",
       " {'ap': [0.931616790575704,\n",
       "   0.892856461606564,\n",
       "   0.9399491630756815,\n",
       "   0.9326040595937026,\n",
       "   0.9228473879498885,\n",
       "   0.922646094817437,\n",
       "   0.9000106020427893,\n",
       "   0.9267267002423014,\n",
       "   0.8827116091047897,\n",
       "   0.9085575559898497],\n",
       "  'ap_mean': 0.916052642499871,\n",
       "  'ap_std': 0.018038914037048243,\n",
       "  'dataset': 'pubmed',\n",
       "  'datetime': '2021-10-05 15:49:34',\n",
       "  'elapsed time(s)': 47.3528,\n",
       "  'experiment mode': 'simplified diffusion mode(n_diff=1, alpha=0.3)',\n",
       "  'iteration': 10,\n",
       "  'model': 'gae',\n",
       "  'roc': [0.9216457367854236,\n",
       "   0.8922464414328807,\n",
       "   0.9289699769503287,\n",
       "   0.9279368838598697,\n",
       "   0.9075332953233046,\n",
       "   0.9104912552568357,\n",
       "   0.9000677358205535,\n",
       "   0.9152620011792856,\n",
       "   0.8789039467079903,\n",
       "   0.8980112958008665],\n",
       "  'roc_mean': 0.9081068569117339,\n",
       "  'roc_std': 0.015296803581754616,\n",
       "  'setting_order': ['epochs',\n",
       "   'hidden1',\n",
       "   'hidden2',\n",
       "   'lr',\n",
       "   'dropout',\n",
       "   'test_val_ratio',\n",
       "   'feat_norm',\n",
       "   'feat_use'],\n",
       "  'setting_value': [200, 32, 16, 0.01, 0.0, [0.1, 0.05], False, True]},\n",
       " {'ap': [0.919207486503094,\n",
       "   0.8907631308606528,\n",
       "   0.9041016160779205,\n",
       "   0.8930483266593923,\n",
       "   0.9072726435309726,\n",
       "   0.9117716627750891,\n",
       "   0.8954827278554537,\n",
       "   0.9139157311239363,\n",
       "   0.9060306013344571,\n",
       "   0.9263454346833263],\n",
       "  'ap_mean': 0.9067939361404296,\n",
       "  'ap_std': 0.010926057903086395,\n",
       "  'dataset': 'pubmed',\n",
       "  'datetime': '2021-10-05 15:50:22',\n",
       "  'elapsed time(s)': 47.1918,\n",
       "  'experiment mode': 'normal mode(n_diff=1, alpha=0.5)',\n",
       "  'iteration': 10,\n",
       "  'model': 'gae',\n",
       "  'roc': [0.906466090668538,\n",
       "   0.8917055294845743,\n",
       "   0.8863207754045875,\n",
       "   0.8901948744938089,\n",
       "   0.8953505937848729,\n",
       "   0.9040880273282361,\n",
       "   0.8959353634587177,\n",
       "   0.9053988860137714,\n",
       "   0.8963788137947165,\n",
       "   0.9193505158155832],\n",
       "  'roc_mean': 0.8991189470247407,\n",
       "  'roc_std': 0.009261000679145582,\n",
       "  'setting_order': ['epochs',\n",
       "   'hidden1',\n",
       "   'hidden2',\n",
       "   'lr',\n",
       "   'dropout',\n",
       "   'test_val_ratio',\n",
       "   'feat_norm',\n",
       "   'feat_use'],\n",
       "  'setting_value': [200, 32, 16, 0.01, 0.0, [0.1, 0.05], False, True]},\n",
       " {'ap': [0.9041519721557203,\n",
       "   0.9155534199160946,\n",
       "   0.9103008583952853,\n",
       "   0.8726000258278517,\n",
       "   0.8734609714280597,\n",
       "   0.8987333859261672,\n",
       "   0.899329724133918,\n",
       "   0.8775819694746887,\n",
       "   0.9131301701562098,\n",
       "   0.912325687832516],\n",
       "  'ap_mean': 0.897716818524651,\n",
       "  'ap_std': 0.016115677136530723,\n",
       "  'dataset': 'pubmed',\n",
       "  'datetime': '2021-10-05 15:51:09',\n",
       "  'elapsed time(s)': 47.2334,\n",
       "  'experiment mode': 'simplified diffusion mode(n_diff=1, alpha=0.7)',\n",
       "  'iteration': 10,\n",
       "  'model': 'gae',\n",
       "  'roc': [0.8954090707522573,\n",
       "   0.9025724992568551,\n",
       "   0.9061249750254619,\n",
       "   0.8853656516039745,\n",
       "   0.8601864440643442,\n",
       "   0.8814476947892148,\n",
       "   0.8842887007879772,\n",
       "   0.8795715587522965,\n",
       "   0.9089416156211472,\n",
       "   0.8944978046771828],\n",
       "  'roc_mean': 0.8898406015330712,\n",
       "  'roc_std': 0.013967605831450852,\n",
       "  'setting_order': ['epochs',\n",
       "   'hidden1',\n",
       "   'hidden2',\n",
       "   'lr',\n",
       "   'dropout',\n",
       "   'test_val_ratio',\n",
       "   'feat_norm',\n",
       "   'feat_use'],\n",
       "  'setting_value': [200, 32, 16, 0.01, 0.0, [0.1, 0.05], False, True]},\n",
       " {'ap': [0.896084717654428,\n",
       "   0.9019625269096379,\n",
       "   0.9046541433308218,\n",
       "   0.8858577263602038,\n",
       "   0.8970947019230652,\n",
       "   0.8876475978158053,\n",
       "   0.8986024317522069,\n",
       "   0.9037724727822248,\n",
       "   0.8975313373351,\n",
       "   0.8996723478516497],\n",
       "  'ap_mean': 0.8972880003715143,\n",
       "  'ap_std': 0.005922039154999246,\n",
       "  'dataset': 'pubmed',\n",
       "  'datetime': '2021-10-05 15:51:57',\n",
       "  'elapsed time(s)': 47.6626,\n",
       "  'experiment mode': 'simplified diffusion mode(n_diff=1, alpha=0.9)',\n",
       "  'iteration': 10,\n",
       "  'model': 'gae',\n",
       "  'roc': [0.8884795501171977,\n",
       "   0.8912328406648833,\n",
       "   0.8975434800617905,\n",
       "   0.8897319318353484,\n",
       "   0.8861502175830493,\n",
       "   0.8813697254993691,\n",
       "   0.890945328908576,\n",
       "   0.893245422959032,\n",
       "   0.8878314303953532,\n",
       "   0.8920758836113425],\n",
       "  'roc_mean': 0.8898605811635942,\n",
       "  'roc_std': 0.004127397560881784,\n",
       "  'setting_order': ['epochs',\n",
       "   'hidden1',\n",
       "   'hidden2',\n",
       "   'lr',\n",
       "   'dropout',\n",
       "   'test_val_ratio',\n",
       "   'feat_norm',\n",
       "   'feat_use'],\n",
       "  'setting_value': [200, 32, 16, 0.01, 0.0, [0.1, 0.05], False, True]}]"
      ]
     },
     "execution_count": 27,
     "metadata": {},
     "output_type": "execute_result"
    }
   ],
   "source": [
    "data[350:355]"
   ]
  },
  {
   "cell_type": "markdown",
   "id": "4ac8d2a2-e12e-4614-ac71-ed041e71e2f0",
   "metadata": {
    "id": "4ac8d2a2-e12e-4614-ac71-ed041e71e2f0"
   },
   "source": [
    "### GAE(iterative operation)"
   ]
  },
  {
   "cell_type": "code",
   "execution_count": null,
   "id": "18404b2e-ba60-4448-8e9c-48cfa1722a5f",
   "metadata": {
    "colab": {
     "base_uri": "https://localhost:8080/",
     "height": 503
    },
    "executionInfo": {
     "elapsed": 803528,
     "status": "error",
     "timestamp": 1634955376402,
     "user": {
      "displayName": "Jicheol Kang",
      "photoUrl": "https://lh3.googleusercontent.com/a/default-user=s64",
      "userId": "04636124994992343301"
     },
     "user_tz": -540
    },
    "id": "18404b2e-ba60-4448-8e9c-48cfa1722a5f",
    "outputId": "c8f3ac5e-276d-4c7e-c725-a6704685b614"
   },
   "outputs": [
    {
     "name": "stdout",
     "output_type": "stream",
     "text": [
      "Dataset: pubmed\n",
      "Simdiff_params: n_diff =  5, alpha = 0.5\n",
      "Feature use: True\n",
      "Start time: 2021-10-23 11:02:54\n",
      "Experiment 1 - 1/200 val_roc: 0.8764 val_ap: 0.8596\n"
     ]
    },
    {
     "ename": "KeyboardInterrupt",
     "evalue": "ignored",
     "output_type": "error",
     "traceback": [
      "\u001b[0;31m---------------------------------------------------------------------------\u001b[0m",
      "\u001b[0;31mKeyboardInterrupt\u001b[0m                         Traceback (most recent call last)",
      "\u001b[0;32m<ipython-input-15-ea4a7d89e974>\u001b[0m in \u001b[0;36m<module>\u001b[0;34m()\u001b[0m\n\u001b[1;32m      4\u001b[0m         \u001b[0mhparams\u001b[0m \u001b[0;34m=\u001b[0m \u001b[0mepochs\u001b[0m\u001b[0;34m,\u001b[0m \u001b[0mhidden1\u001b[0m\u001b[0;34m,\u001b[0m \u001b[0mhidden2\u001b[0m\u001b[0;34m,\u001b[0m \u001b[0mlr\u001b[0m\u001b[0;34m,\u001b[0m \u001b[0mdropout\u001b[0m\u001b[0;34m,\u001b[0m \u001b[0mtest_val_ratio\u001b[0m\u001b[0;34m,\u001b[0m \u001b[0mn_diff\u001b[0m\u001b[0;34m,\u001b[0m \u001b[0malpha\u001b[0m\u001b[0;34m\u001b[0m\u001b[0;34m\u001b[0m\u001b[0m\n\u001b[1;32m      5\u001b[0m \u001b[0;34m\u001b[0m\u001b[0m\n\u001b[0;32m----> 6\u001b[0;31m         \u001b[0mresults\u001b[0m \u001b[0;34m=\u001b[0m \u001b[0mgae_iter\u001b[0m\u001b[0;34m(\u001b[0m\u001b[0madj\u001b[0m\u001b[0;34m,\u001b[0m \u001b[0mfeatures\u001b[0m\u001b[0;34m,\u001b[0m \u001b[0mhparams\u001b[0m\u001b[0;34m,\u001b[0m \u001b[0mfeature_use\u001b[0m\u001b[0;34m=\u001b[0m\u001b[0mfeature_use\u001b[0m\u001b[0;34m,\u001b[0m \u001b[0mn_iter\u001b[0m\u001b[0;34m=\u001b[0m\u001b[0mn_iter\u001b[0m\u001b[0;34m)\u001b[0m\u001b[0;34m\u001b[0m\u001b[0;34m\u001b[0m\u001b[0m\n\u001b[0m\u001b[1;32m      7\u001b[0m \u001b[0;34m\u001b[0m\u001b[0m\n\u001b[1;32m      8\u001b[0m         \u001b[0mdate\u001b[0m \u001b[0;34m=\u001b[0m \u001b[0;34m(\u001b[0m\u001b[0mdatetime\u001b[0m\u001b[0;34m.\u001b[0m\u001b[0mnow\u001b[0m\u001b[0;34m(\u001b[0m\u001b[0;34m)\u001b[0m \u001b[0;34m+\u001b[0m \u001b[0mtimedelta\u001b[0m\u001b[0;34m(\u001b[0m\u001b[0mhours\u001b[0m\u001b[0;34m=\u001b[0m\u001b[0;36m9\u001b[0m\u001b[0;34m)\u001b[0m\u001b[0;34m)\u001b[0m\u001b[0;34m.\u001b[0m\u001b[0mstrftime\u001b[0m\u001b[0;34m(\u001b[0m\u001b[0;34m\"%Y-%m-%d %H:%M:%S\"\u001b[0m\u001b[0;34m)\u001b[0m\u001b[0;34m\u001b[0m\u001b[0;34m\u001b[0m\u001b[0m\n",
      "\u001b[0;32m<ipython-input-14-aae434538607>\u001b[0m in \u001b[0;36mgae_iter\u001b[0;34m(adj, features, hparams, feature_use, n_iter)\u001b[0m\n\u001b[1;32m     44\u001b[0m             \u001b[0mmodel\u001b[0m\u001b[0;34m.\u001b[0m\u001b[0mtrain\u001b[0m\u001b[0;34m(\u001b[0m\u001b[0;34m)\u001b[0m\u001b[0;34m\u001b[0m\u001b[0;34m\u001b[0m\u001b[0m\n\u001b[1;32m     45\u001b[0m             \u001b[0moptimizer\u001b[0m\u001b[0;34m.\u001b[0m\u001b[0mzero_grad\u001b[0m\u001b[0;34m(\u001b[0m\u001b[0;34m)\u001b[0m\u001b[0;34m\u001b[0m\u001b[0;34m\u001b[0m\u001b[0m\n\u001b[0;32m---> 46\u001b[0;31m             \u001b[0mreconstructed\u001b[0m \u001b[0;34m=\u001b[0m \u001b[0mmodel\u001b[0m\u001b[0;34m(\u001b[0m\u001b[0mfeatures\u001b[0m\u001b[0;34m,\u001b[0m \u001b[0madj_norm\u001b[0m\u001b[0;34m)\u001b[0m\u001b[0;34m\u001b[0m\u001b[0;34m\u001b[0m\u001b[0m\n\u001b[0m\u001b[1;32m     47\u001b[0m             \u001b[0mloss\u001b[0m \u001b[0;34m=\u001b[0m \u001b[0mloss_function\u001b[0m\u001b[0;34m(\u001b[0m\u001b[0mpreds\u001b[0m\u001b[0;34m=\u001b[0m\u001b[0mreconstructed\u001b[0m\u001b[0;34m,\u001b[0m \u001b[0mlabels\u001b[0m\u001b[0;34m=\u001b[0m\u001b[0madj_label\u001b[0m\u001b[0;34m,\u001b[0m \u001b[0mnorm\u001b[0m\u001b[0;34m=\u001b[0m\u001b[0mnorm\u001b[0m\u001b[0;34m,\u001b[0m \u001b[0mpos_weight\u001b[0m\u001b[0;34m=\u001b[0m\u001b[0mpos_weight\u001b[0m\u001b[0;34m)\u001b[0m\u001b[0;34m\u001b[0m\u001b[0;34m\u001b[0m\u001b[0m\n\u001b[1;32m     48\u001b[0m             \u001b[0mloss\u001b[0m\u001b[0;34m.\u001b[0m\u001b[0mbackward\u001b[0m\u001b[0;34m(\u001b[0m\u001b[0;34m)\u001b[0m\u001b[0;34m\u001b[0m\u001b[0;34m\u001b[0m\u001b[0m\n",
      "\u001b[0;32m/usr/local/lib/python3.7/dist-packages/torch/nn/modules/module.py\u001b[0m in \u001b[0;36m_call_impl\u001b[0;34m(self, *input, **kwargs)\u001b[0m\n\u001b[1;32m   1049\u001b[0m         if not (self._backward_hooks or self._forward_hooks or self._forward_pre_hooks or _global_backward_hooks\n\u001b[1;32m   1050\u001b[0m                 or _global_forward_hooks or _global_forward_pre_hooks):\n\u001b[0;32m-> 1051\u001b[0;31m             \u001b[0;32mreturn\u001b[0m \u001b[0mforward_call\u001b[0m\u001b[0;34m(\u001b[0m\u001b[0;34m*\u001b[0m\u001b[0minput\u001b[0m\u001b[0;34m,\u001b[0m \u001b[0;34m**\u001b[0m\u001b[0mkwargs\u001b[0m\u001b[0;34m)\u001b[0m\u001b[0;34m\u001b[0m\u001b[0;34m\u001b[0m\u001b[0m\n\u001b[0m\u001b[1;32m   1052\u001b[0m         \u001b[0;31m# Do not call functions when jit is used\u001b[0m\u001b[0;34m\u001b[0m\u001b[0;34m\u001b[0m\u001b[0;34m\u001b[0m\u001b[0m\n\u001b[1;32m   1053\u001b[0m         \u001b[0mfull_backward_hooks\u001b[0m\u001b[0;34m,\u001b[0m \u001b[0mnon_full_backward_hooks\u001b[0m \u001b[0;34m=\u001b[0m \u001b[0;34m[\u001b[0m\u001b[0;34m]\u001b[0m\u001b[0;34m,\u001b[0m \u001b[0;34m[\u001b[0m\u001b[0;34m]\u001b[0m\u001b[0;34m\u001b[0m\u001b[0;34m\u001b[0m\u001b[0m\n",
      "\u001b[0;32m/content/drive/My Drive/gae/model.py\u001b[0m in \u001b[0;36mforward\u001b[0;34m(self, x, adj)\u001b[0m\n\u001b[1;32m     17\u001b[0m \u001b[0;34m\u001b[0m\u001b[0m\n\u001b[1;32m     18\u001b[0m     \u001b[0;32mdef\u001b[0m \u001b[0mforward\u001b[0m\u001b[0;34m(\u001b[0m\u001b[0mself\u001b[0m\u001b[0;34m,\u001b[0m \u001b[0mx\u001b[0m\u001b[0;34m,\u001b[0m \u001b[0madj\u001b[0m\u001b[0;34m)\u001b[0m\u001b[0;34m:\u001b[0m\u001b[0;34m\u001b[0m\u001b[0;34m\u001b[0m\u001b[0m\n\u001b[0;32m---> 19\u001b[0;31m         \u001b[0;32mreturn\u001b[0m \u001b[0mself\u001b[0m\u001b[0;34m.\u001b[0m\u001b[0mdc\u001b[0m\u001b[0;34m(\u001b[0m\u001b[0mself\u001b[0m\u001b[0;34m.\u001b[0m\u001b[0mencode\u001b[0m\u001b[0;34m(\u001b[0m\u001b[0mx\u001b[0m\u001b[0;34m,\u001b[0m \u001b[0madj\u001b[0m\u001b[0;34m)\u001b[0m\u001b[0;34m)\u001b[0m\u001b[0;34m\u001b[0m\u001b[0;34m\u001b[0m\u001b[0m\n\u001b[0m\u001b[1;32m     20\u001b[0m \u001b[0;34m\u001b[0m\u001b[0m\n\u001b[1;32m     21\u001b[0m \u001b[0;32mclass\u001b[0m \u001b[0mInnerProductDecoder\u001b[0m\u001b[0;34m(\u001b[0m\u001b[0mnn\u001b[0m\u001b[0;34m.\u001b[0m\u001b[0mModule\u001b[0m\u001b[0;34m)\u001b[0m\u001b[0;34m:\u001b[0m\u001b[0;34m\u001b[0m\u001b[0;34m\u001b[0m\u001b[0m\n",
      "\u001b[0;32m/content/drive/My Drive/gae/model.py\u001b[0m in \u001b[0;36mencode\u001b[0;34m(self, x, adj)\u001b[0m\n\u001b[1;32m     14\u001b[0m     \u001b[0;32mdef\u001b[0m \u001b[0mencode\u001b[0m\u001b[0;34m(\u001b[0m\u001b[0mself\u001b[0m\u001b[0;34m,\u001b[0m \u001b[0mx\u001b[0m\u001b[0;34m,\u001b[0m \u001b[0madj\u001b[0m\u001b[0;34m)\u001b[0m\u001b[0;34m:\u001b[0m\u001b[0;34m\u001b[0m\u001b[0;34m\u001b[0m\u001b[0m\n\u001b[1;32m     15\u001b[0m         \u001b[0mhidden1\u001b[0m \u001b[0;34m=\u001b[0m \u001b[0mself\u001b[0m\u001b[0;34m.\u001b[0m\u001b[0mgc1\u001b[0m\u001b[0;34m(\u001b[0m\u001b[0mx\u001b[0m\u001b[0;34m,\u001b[0m \u001b[0madj\u001b[0m\u001b[0;34m)\u001b[0m\u001b[0;34m\u001b[0m\u001b[0;34m\u001b[0m\u001b[0m\n\u001b[0;32m---> 16\u001b[0;31m         \u001b[0;32mreturn\u001b[0m \u001b[0mself\u001b[0m\u001b[0;34m.\u001b[0m\u001b[0mgc2\u001b[0m\u001b[0;34m(\u001b[0m\u001b[0mhidden1\u001b[0m\u001b[0;34m,\u001b[0m \u001b[0madj\u001b[0m\u001b[0;34m)\u001b[0m\u001b[0;34m\u001b[0m\u001b[0;34m\u001b[0m\u001b[0m\n\u001b[0m\u001b[1;32m     17\u001b[0m \u001b[0;34m\u001b[0m\u001b[0m\n\u001b[1;32m     18\u001b[0m     \u001b[0;32mdef\u001b[0m \u001b[0mforward\u001b[0m\u001b[0;34m(\u001b[0m\u001b[0mself\u001b[0m\u001b[0;34m,\u001b[0m \u001b[0mx\u001b[0m\u001b[0;34m,\u001b[0m \u001b[0madj\u001b[0m\u001b[0;34m)\u001b[0m\u001b[0;34m:\u001b[0m\u001b[0;34m\u001b[0m\u001b[0;34m\u001b[0m\u001b[0m\n",
      "\u001b[0;32m/usr/local/lib/python3.7/dist-packages/torch/nn/modules/module.py\u001b[0m in \u001b[0;36m_call_impl\u001b[0;34m(self, *input, **kwargs)\u001b[0m\n\u001b[1;32m   1049\u001b[0m         if not (self._backward_hooks or self._forward_hooks or self._forward_pre_hooks or _global_backward_hooks\n\u001b[1;32m   1050\u001b[0m                 or _global_forward_hooks or _global_forward_pre_hooks):\n\u001b[0;32m-> 1051\u001b[0;31m             \u001b[0;32mreturn\u001b[0m \u001b[0mforward_call\u001b[0m\u001b[0;34m(\u001b[0m\u001b[0;34m*\u001b[0m\u001b[0minput\u001b[0m\u001b[0;34m,\u001b[0m \u001b[0;34m**\u001b[0m\u001b[0mkwargs\u001b[0m\u001b[0;34m)\u001b[0m\u001b[0;34m\u001b[0m\u001b[0;34m\u001b[0m\u001b[0m\n\u001b[0m\u001b[1;32m   1052\u001b[0m         \u001b[0;31m# Do not call functions when jit is used\u001b[0m\u001b[0;34m\u001b[0m\u001b[0;34m\u001b[0m\u001b[0;34m\u001b[0m\u001b[0m\n\u001b[1;32m   1053\u001b[0m         \u001b[0mfull_backward_hooks\u001b[0m\u001b[0;34m,\u001b[0m \u001b[0mnon_full_backward_hooks\u001b[0m \u001b[0;34m=\u001b[0m \u001b[0;34m[\u001b[0m\u001b[0;34m]\u001b[0m\u001b[0;34m,\u001b[0m \u001b[0;34m[\u001b[0m\u001b[0;34m]\u001b[0m\u001b[0;34m\u001b[0m\u001b[0;34m\u001b[0m\u001b[0m\n",
      "\u001b[0;32m/content/drive/My Drive/gae/layers.py\u001b[0m in \u001b[0;36mforward\u001b[0;34m(self, input, adj)\u001b[0m\n\u001b[1;32m     21\u001b[0m         \u001b[0minput\u001b[0m \u001b[0;34m=\u001b[0m \u001b[0mF\u001b[0m\u001b[0;34m.\u001b[0m\u001b[0mdropout\u001b[0m\u001b[0;34m(\u001b[0m\u001b[0minput\u001b[0m\u001b[0;34m,\u001b[0m \u001b[0mself\u001b[0m\u001b[0;34m.\u001b[0m\u001b[0mdropout\u001b[0m\u001b[0;34m,\u001b[0m \u001b[0mself\u001b[0m\u001b[0;34m.\u001b[0m\u001b[0mtraining\u001b[0m\u001b[0;34m)\u001b[0m\u001b[0;34m\u001b[0m\u001b[0;34m\u001b[0m\u001b[0m\n\u001b[1;32m     22\u001b[0m         \u001b[0msupport\u001b[0m \u001b[0;34m=\u001b[0m \u001b[0mtorch\u001b[0m\u001b[0;34m.\u001b[0m\u001b[0mmm\u001b[0m\u001b[0;34m(\u001b[0m\u001b[0minput\u001b[0m\u001b[0;34m,\u001b[0m \u001b[0mself\u001b[0m\u001b[0;34m.\u001b[0m\u001b[0mweight\u001b[0m\u001b[0;34m)\u001b[0m\u001b[0;34m\u001b[0m\u001b[0;34m\u001b[0m\u001b[0m\n\u001b[0;32m---> 23\u001b[0;31m         \u001b[0moutput\u001b[0m \u001b[0;34m=\u001b[0m \u001b[0mtorch\u001b[0m\u001b[0;34m.\u001b[0m\u001b[0mspmm\u001b[0m\u001b[0;34m(\u001b[0m\u001b[0madj\u001b[0m\u001b[0;34m,\u001b[0m \u001b[0msupport\u001b[0m\u001b[0;34m)\u001b[0m\u001b[0;34m\u001b[0m\u001b[0;34m\u001b[0m\u001b[0m\n\u001b[0m\u001b[1;32m     24\u001b[0m         \u001b[0moutput\u001b[0m \u001b[0;34m=\u001b[0m \u001b[0mself\u001b[0m\u001b[0;34m.\u001b[0m\u001b[0mact\u001b[0m\u001b[0;34m(\u001b[0m\u001b[0moutput\u001b[0m\u001b[0;34m)\u001b[0m\u001b[0;34m\u001b[0m\u001b[0;34m\u001b[0m\u001b[0m\n\u001b[1;32m     25\u001b[0m         \u001b[0;32mreturn\u001b[0m \u001b[0moutput\u001b[0m\u001b[0;34m\u001b[0m\u001b[0;34m\u001b[0m\u001b[0m\n",
      "\u001b[0;31mKeyboardInterrupt\u001b[0m: "
     ]
    }
   ],
   "source": [
    "for n_diff in n_diff_range:\n",
    "    for alpha in alpha_range:\n",
    "        \n",
    "        hparams = epochs, hidden1, hidden2, lr, dropout, test_val_ratio, n_diff, alpha\n",
    "        \n",
    "        results = gae_iter(adj, features, hparams, feature_use=feature_use, n_iter=n_iter)\n",
    "        \n",
    "        date = (datetime.now() + timedelta(hours=9)).strftime(\"%Y-%m-%d %H:%M:%S\")\n",
    "        hparams_add = hparams[:-2] + (feat_norm,) + (feature_use,)\n",
    "        if n_diff == 1 and alpha == 0.5:\n",
    "            experiment_mode = 'normal mode(n_diff={}, alpha={})'.format(n_diff, alpha)\n",
    "        else:\n",
    "            experiment_mode = 'simplified diffusion mode(n_diff={}, alpha={})'.format(n_diff, alpha)\n",
    " \n",
    "        log_dict= OrderedDict()\n",
    "        log_dict['model'] = model_name\n",
    "        log_dict['dataset'] = dataset\n",
    "        log_dict['datetime'] = date\n",
    "        log_dict['experiment mode'] =  experiment_mode\n",
    "        log_dict['setting_order'] = ['epochs', 'hidden1', 'hidden2', 'lr', 'dropout', 'test_val_ratio', 'feat_norm', 'feat_use']\n",
    "        log_dict['setting_value'] = hparams_add\n",
    "        log_dict['iteration'] = n_iter\n",
    "        log_dict['roc'] = results[0]\n",
    "        log_dict['roc_mean'] = np.mean(results[0])\n",
    "        log_dict['roc_std'] = np.std(results[0])\n",
    "        log_dict['ap'] = results[1]\n",
    "        log_dict['ap_mean'] = np.mean(results[1])\n",
    "        log_dict['ap_std'] = np.std(results[1])\n",
    "        log_dict['elapsed time(s)'] = np.round(results[2], 4)\n",
    "        print(pd.DataFrame(log_dict.items(), columns=['key', 'value']))\n",
    " \n",
    "        data = json.load(open('results_link_prediction_2.json'))\n",
    "        data.append(log_dict)\n",
    "        with open('results_link_prediction_2.json', 'w') as f:\n",
    "            json.dump(data, f)\n",
    "        print(\"Last data saved at: {}\".format((datetime.now() + timedelta(hours=9)).strftime(\"%Y-%m-%d %H:%M:%S\")))\n",
    "        print(\"Total data num: {}\".format(len(data)))"
   ]
  },
  {
   "cell_type": "markdown",
   "id": "19fb97d2-ea3d-4e81-bd31-d2f622a6f1c4",
   "metadata": {
    "id": "19fb97d2-ea3d-4e81-bd31-d2f622a6f1c4"
   },
   "source": [
    "### GAE(single operation)"
   ]
  },
  {
   "cell_type": "code",
   "execution_count": null,
   "id": "9c15dd45-0a70-47de-87f8-69f27ebad0d7",
   "metadata": {
    "id": "9c15dd45-0a70-47de-87f8-69f27ebad0d7"
   },
   "outputs": [],
   "source": [
    "# results = gae_iter(adj, features, hparams, feature_use=feature_use, n_iter=n_iter)"
   ]
  },
  {
   "cell_type": "markdown",
   "id": "043d81e9-0eaf-4fa7-ac4e-e3943ff08984",
   "metadata": {
    "id": "043d81e9-0eaf-4fa7-ac4e-e3943ff08984"
   },
   "source": [
    "### Save log"
   ]
  },
  {
   "cell_type": "code",
   "execution_count": null,
   "id": "721949c7-e16c-43e7-a240-16d3269c27f7",
   "metadata": {
    "id": "721949c7-e16c-43e7-a240-16d3269c27f7"
   },
   "outputs": [],
   "source": [
    "# date = (datetime.now()).strftime(\"%Y-%m-%d %H:%M:%S\")\n",
    "# hparams_add = hparams[:-2] + (feat_norm,) + (feature_use,)\n",
    "# if n_diff == 1 and alpha == 0.5:\n",
    "#     experiment_mode = 'normal mode(n_diff={}, alpha={})'.format(n_diff, alpha)\n",
    "# else:\n",
    "#     experiment_mode = 'simplified diffusion mode(n_diff={}, alpha={})'.format(n_diff, alpha)"
   ]
  },
  {
   "cell_type": "code",
   "execution_count": null,
   "id": "4ce8b373-daa8-411a-8400-c3839d5df90f",
   "metadata": {
    "id": "4ce8b373-daa8-411a-8400-c3839d5df90f"
   },
   "outputs": [],
   "source": [
    "# log_dict= OrderedDict()"
   ]
  },
  {
   "cell_type": "code",
   "execution_count": null,
   "id": "c47aee9f-b7b0-485c-9edc-53785473a3f9",
   "metadata": {
    "id": "c47aee9f-b7b0-485c-9edc-53785473a3f9"
   },
   "outputs": [],
   "source": [
    "# log_dict['model'] = model_name\n",
    "# log_dict['dataset'] = dataset\n",
    "# log_dict['datetime'] = date\n",
    "# log_dict['experiment mode'] =  experiment_mode\n",
    "# log_dict['setting_order'] = ['epochs', 'hidden1', 'hidden2', 'lr', 'dropout', 'test_val_ratio', 'feat_norm', 'feat_use']\n",
    "# log_dict['setting_value'] = hparams_add\n",
    "# log_dict['iteration'] = n_iter\n",
    "# log_dict['roc'] = results[0]\n",
    "# log_dict['roc_mean'] = np.mean(results[0])\n",
    "# log_dict['roc_std'] = np.std(results[0])\n",
    "# log_dict['ap'] = results[1]\n",
    "# log_dict['ap_mean'] = np.mean(results[1])\n",
    "# log_dict['ap_std'] = np.std(results[1])\n",
    "# log_dict['elapsed time(s)'] = np.round(results[2], 4)\n",
    "# log_dict\n",
    "# pd.DataFrame(log_dict.items(), columns=['key', 'value'])"
   ]
  },
  {
   "cell_type": "code",
   "execution_count": null,
   "id": "0a012986-5eae-4622-8a5a-8fe75134fed6",
   "metadata": {
    "id": "0a012986-5eae-4622-8a5a-8fe75134fed6"
   },
   "outputs": [],
   "source": [
    "# data = json.load(open('results_link_prediction.json'))\n",
    "# data.append(log_dict)\n",
    "# with open('results_link_prediction.json', 'w') as f:\n",
    "#     json.dump(data, f)"
   ]
  },
  {
   "cell_type": "code",
   "execution_count": null,
   "id": "a862a738-e19b-4933-8963-82398f9ffa1b",
   "metadata": {
    "id": "a862a738-e19b-4933-8963-82398f9ffa1b"
   },
   "outputs": [],
   "source": [
    "# # if wanna clear results(be careful!)\n",
    "# empty = []\n",
    "# with open('results_link_prediction.json', 'w') as f:\n",
    "#     json.dump(empty, f)"
   ]
  },
  {
   "cell_type": "code",
   "execution_count": null,
   "id": "npo22x87q-ZW",
   "metadata": {
    "id": "npo22x87q-ZW"
   },
   "outputs": [],
   "source": [
    "def gae_iter(adj, features, hparams, feature_use=False, n_iter=1):\n",
    "    \n",
    "    epochs, hidden1, hidden2, lr, dropout, test_val_ratio, n_diff, alpha = hparams\n",
    "    test = 1/test_val_ratio[0]\n",
    "    val = 1/test_val_ratio[1]\n",
    "    roc_results = []\n",
    "    ap_results = []\n",
    "    start = time.time()\n",
    "    print(\"Dataset: {}\".format(dataset))\n",
    "    print(\"Simdiff_params: n_diff =  {}, alpha = {}\".format(n_diff, alpha))\n",
    "    print(\"Feature use: {}\".format(feature_use))\n",
    "    print(\"Start time: {}\".format((datetime.now() + timedelta(hours=9)).strftime(\"%Y-%m-%d %H:%M:%S\")))\n",
    "    \n",
    "    for i in range(n_iter):\n",
    "        adj_orig = remove_diag(adj)\n",
    "        while True:\n",
    "            try:\n",
    "                adj_train, train_edges, val_edges, val_edges_false, test_edges, test_edges_false = mask_test_edges(adj, test, val)\n",
    "            except AssertionError:\n",
    "                continue\n",
    "            break\n",
    "        adj_ = adj_train\n",
    "        adj_norm = preprocess_graph_diff(adj_, n_diff, alpha)\n",
    "            \n",
    "        pos_weight = torch.Tensor([float(adj.shape[0] * adj.shape[0] - adj.sum()) / adj.sum()])\n",
    "        norm = adj.shape[0] * adj.shape[0] / float((adj.shape[0] * adj.shape[0] - adj.sum()) * 2)\n",
    "        \n",
    "        if feature_use == False:\n",
    "            features = sp.identity(adj.shape[0])\n",
    "            features = torch.FloatTensor(np.array(features.todense()))\n",
    "        n_nodes, feat_dim = features.shape\n",
    "            \n",
    "        adj_label = adj_train + sp.eye(adj_train.shape[0])\n",
    "        adj_label = torch.FloatTensor(adj_label.toarray())\n",
    "\n",
    "        adj_norm, features, adj_label, pos_weight = adj_norm.to(device), features.to(device), adj_label.to(device), pos_weight.to(device)\n",
    "        \n",
    "        model = GCN_AE(feat_dim, hidden1, hidden2, dropout)\n",
    "        model= model.to(device)\n",
    "        optimizer = optim.Adam(model.parameters(), lr=lr)\n",
    "        hidden_emb = None\n",
    "        \n",
    "        for epoch in range(epochs):\n",
    "            model.train()\n",
    "            optimizer.zero_grad()\n",
    "            reconstructed = model(features, adj_norm)\n",
    "            loss = loss_function(preds=reconstructed, labels=adj_label, norm=norm, pos_weight=pos_weight)\n",
    "            loss.backward()\n",
    "            cur_loss = loss.item()\n",
    "            optimizer.step()\n",
    "\n",
    "            hidden_emb = reconstructed.data.cpu().numpy()\n",
    "            roc_curr, ap_curr = get_roc_score_gae(hidden_emb, adj_orig, val_edges, val_edges_false)\n",
    "            if epoch % 50 == 0:\n",
    "                print('Experiment {} - {}/{} val_roc: {:.4f} val_ap: {:.4f}'.format(i+1, epoch+1, epochs, roc_curr, ap_curr), end='\\n', flush=True)\n",
    "\n",
    "        roc_score, ap_score = get_roc_score_gae(hidden_emb, adj_orig, test_edges, test_edges_false)\n",
    "        roc_results.append(roc_score)\n",
    "        ap_results.append(ap_score)\n",
    "        print('Experiment {} result - ROC(AUC) score: {}, AP score: {}'.format(i+1, np.round(roc_score, 5), np.round(ap_score, 5)), end='\\n')\n",
    "    elapsed_time = time.time()-start\n",
    "    print('All experiments finished!', '\\nElapsed time: {:.2f}s'.format(elapsed_time), end='\\n')\n",
    "    print(\"End time: {}\".format((datetime.now() + timedelta(hours=9)).strftime(\"%Y-%m-%d %H:%M:%S\")))\n",
    "    return roc_results, ap_results, elapsed_time"
   ]
  },
  {
   "cell_type": "code",
   "execution_count": null,
   "id": "36866d92-55cc-425d-bd92-861c0b5ce91d",
   "metadata": {
    "id": "36866d92-55cc-425d-bd92-861c0b5ce91d"
   },
   "outputs": [],
   "source": []
  },
  {
   "cell_type": "code",
   "execution_count": null,
   "id": "x2Gre_9rcUus",
   "metadata": {
    "id": "x2Gre_9rcUus"
   },
   "outputs": [],
   "source": []
  },
  {
   "cell_type": "code",
   "execution_count": null,
   "id": "vENQ979dfJB8",
   "metadata": {
    "id": "vENQ979dfJB8"
   },
   "outputs": [],
   "source": []
  }
 ],
 "metadata": {
  "colab": {
   "collapsed_sections": [],
   "machine_shape": "hm",
   "name": "gae.ipynb",
   "provenance": []
  },
  "kernelspec": {
   "display_name": "Python 3",
   "language": "python",
   "name": "python3"
  },
  "language_info": {
   "codemirror_mode": {
    "name": "ipython",
    "version": 3
   },
   "file_extension": ".py",
   "mimetype": "text/x-python",
   "name": "python",
   "nbconvert_exporter": "python",
   "pygments_lexer": "ipython3",
   "version": "3.8.3"
  }
 },
 "nbformat": 4,
 "nbformat_minor": 5
}
